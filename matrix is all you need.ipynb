{
 "cells": [
  {
   "cell_type": "code",
   "execution_count": 1,
   "metadata": {},
   "outputs": [],
   "source": [
    "import torch as th\n",
    "import numpy as np\n",
    "import matplotlib.pyplot as plt\n",
    "from matplotlib.pyplot import plot"
   ]
  },
  {
   "cell_type": "code",
   "execution_count": 2,
   "metadata": {},
   "outputs": [],
   "source": [
    "device = th.device('cpu')"
   ]
  },
  {
   "cell_type": "code",
   "execution_count": 3,
   "metadata": {},
   "outputs": [],
   "source": [
    "def tile_them(array_list, shape, reshape):\n",
    "  return [np.tile(array, shape).view(reshape) for array in array_list]"
   ]
  },
  {
   "cell_type": "code",
   "execution_count": 4,
   "metadata": {},
   "outputs": [],
   "source": [
    "P = 10\n",
    "R = 30\n",
    "Q = 100\n",
    "N = 11\n",
    "M = 20\n",
    "W1 = 6\n",
    "W2 = 7\n",
    "W3 = 8\n",
    "W4 = 9\n",
    "X = 40\n",
    "\n",
    "METER = 1\n",
    "SEC = 1\n",
    "LAMBDA = 1 * METER\n",
    "K = 2 * np.pi / LAMBDA\n",
    "\n",
    "dtype = th.complex64\n",
    "\n",
    "width1 = np.linspace(0 * METER, 1 * METER, W1)\n",
    "width2 = np.linspace(0 * METER, 1 * METER, W2)\n",
    "width3 = np.linspace(0 * METER, 1 * METER, W3)\n",
    "width4 = np.linspace(0 * METER, 1 * METER, W4)\n",
    "\n",
    "\n",
    "x1 = np.linspace(0 * METER, 10 * METER, X)\n",
    "x2 = np.linspace(0 * METER, 10 * METER, X)\n",
    "\n",
    "\n",
    "position1 = np.linspace(0 * METER, 10 * METER, N)\n",
    "position2 = np.linspace(0 * METER, 10 * METER, N)\n",
    "position3 = np.linspace(0 * METER, 15 * METER, M)\n",
    "position4 = np.linspace(0 * METER, 15 * METER, N)"
   ]
  },
  {
   "cell_type": "code",
   "execution_count": 5,
   "metadata": {},
   "outputs": [
    {
     "data": {
      "text/plain": [
       "torch.Size([6, 10, 11])"
      ]
     },
     "execution_count": 5,
     "metadata": {},
     "output_type": "execute_result"
    }
   ],
   "source": [
    "field1 = th.tensor(np.linspace(np.add.outer(position1, -width1 / 2), np.add.outer(position1, width1 / 2), P), dtype=dtype, device=device).permute(2, 0, 1)\n",
    "field2 = th.tensor(np.linspace(np.add.outer(position2, -width2 / 2), np.add.outer(position2, width2 / 2), P), dtype=dtype, device=device).permute(2, 0, 1)\n",
    "field3 = th.tensor(np.linspace(np.add.outer(position3, -width3 / 2), np.add.outer(position3, width3 / 2), Q), dtype=dtype, device=device).permute(2, 0, 1)\n",
    "field4 = th.tensor(np.linspace(np.add.outer(position4, -width4 / 2), np.add.outer(position4, width4 / 2), P), dtype=dtype, device=device).permute(2, 0, 1)\n",
    "field1.shape"
   ]
  },
  {
   "cell_type": "code",
   "execution_count": 29,
   "metadata": {},
   "outputs": [
    {
     "data": {
      "text/plain": [
       "torch.Size([6, 7, 8, 100, 10, 20, 11])"
      ]
     },
     "execution_count": 29,
     "metadata": {},
     "output_type": "execute_result"
    }
   ],
   "source": [
    "E1 = th.ones_like(field1, dtype=dtype, device=device)\n",
    "E2 = th.ones_like(field2, dtype=dtype, device=device)\n",
    "R1 = th.tile(field1, (W2, W3, Q, M)).view(W2, W3, W1, Q, P, M, N).permute(2, 0, 1, 3, 4, 5, 6)\n",
    "R2 = th.tile(field2, (W1, W3, Q, M)).view(W1, W3, W2, Q, P, M, N).permute(0, 2, 1, 3, 4, 5, 6)\n",
    "R3 = th.tile(field3, (W1, W2, P, N)).view(W1, W2, W3, P, Q, N, M).permute(0, 1, 2, 4, 3, 6, 5)\n"
   ]
  },
  {
   "cell_type": "code",
   "execution_count": 30,
   "metadata": {},
   "outputs": [
    {
     "ename": "TypeError",
     "evalue": "Concatenation operation is not implemented for NumPy arrays, use np.concatenate() instead. Please do not rely on this error; it may not be given on all Python implementations.",
     "output_type": "error",
     "traceback": [
      "\u001b[0;31m---------------------------------------------------------------------------\u001b[0m",
      "\u001b[0;31mTypeError\u001b[0m                                 Traceback (most recent call last)",
      "Cell \u001b[0;32mIn[30], line 3\u001b[0m\n\u001b[1;32m      1\u001b[0m D1 \u001b[38;5;241m=\u001b[39m R1 \u001b[38;5;241m-\u001b[39m R3\n\u001b[1;32m      2\u001b[0m D2 \u001b[38;5;241m=\u001b[39m R2 \u001b[38;5;241m-\u001b[39m R3\n\u001b[0;32m----> 3\u001b[0m D1 \u001b[38;5;241m=\u001b[39m th\u001b[38;5;241m.\u001b[39msqrt(\u001b[43mx1\u001b[49m\u001b[43m \u001b[49m\u001b[38;5;241;43m*\u001b[39;49m\u001b[38;5;241;43m*\u001b[39;49m\u001b[43m \u001b[49m\u001b[38;5;241;43m2\u001b[39;49m\u001b[43m \u001b[49m\u001b[38;5;241;43m+\u001b[39;49m\u001b[43m \u001b[49m\u001b[43mD1\u001b[49m\u001b[43m \u001b[49m\u001b[38;5;241;43m*\u001b[39;49m\u001b[38;5;241;43m*\u001b[39;49m\u001b[43m \u001b[49m\u001b[38;5;241;43m2\u001b[39;49m)\n\u001b[1;32m      4\u001b[0m D2 \u001b[38;5;241m=\u001b[39m th\u001b[38;5;241m.\u001b[39msqrt(x1 \u001b[38;5;241m*\u001b[39m\u001b[38;5;241m*\u001b[39m \u001b[38;5;241m2\u001b[39m \u001b[38;5;241m+\u001b[39m D2 \u001b[38;5;241m*\u001b[39m\u001b[38;5;241m*\u001b[39m \u001b[38;5;241m2\u001b[39m)\n\u001b[1;32m      5\u001b[0m E3 \u001b[38;5;241m=\u001b[39m th\u001b[38;5;241m.\u001b[39meinsum(\u001b[38;5;124m\"\u001b[39m\u001b[38;5;124mqpmn,pn->pqm\u001b[39m\u001b[38;5;124m\"\u001b[39m, th\u001b[38;5;241m.\u001b[39mexp(\u001b[38;5;241m1\u001b[39mj \u001b[38;5;241m*\u001b[39m D1 \u001b[38;5;241m*\u001b[39m K) \u001b[38;5;241m/\u001b[39m D1, E1) \u001b[38;5;241m+\u001b[39m th\u001b[38;5;241m.\u001b[39meinsum(\u001b[38;5;124m\"\u001b[39m\u001b[38;5;124mqpmn,pn->pqm\u001b[39m\u001b[38;5;124m\"\u001b[39m, th\u001b[38;5;241m.\u001b[39mexp(\u001b[38;5;241m1\u001b[39mj \u001b[38;5;241m*\u001b[39m D2 \u001b[38;5;241m*\u001b[39m K) \u001b[38;5;241m/\u001b[39m D2, E2)\n",
      "\u001b[0;31mTypeError\u001b[0m: Concatenation operation is not implemented for NumPy arrays, use np.concatenate() instead. Please do not rely on this error; it may not be given on all Python implementations."
     ]
    }
   ],
   "source": [
    "D1 = R1 - R3\n",
    "D2 = R2 - R3\n",
    "D1 = th.sqrt(x1 ** 2 + D1 ** 2)\n",
    "D2 = th.sqrt(x1 ** 2 + D2 ** 2)\n",
    "E3 = th.einsum(\"qpmn,pn->pqm\", th.exp(1j * D1 * K) / D1, E1) + th.einsum(\"qpmn,pn->pqm\", th.exp(1j * D2 * K) / D2, E2)\n"
   ]
  },
  {
   "cell_type": "code",
   "execution_count": null,
   "metadata": {},
   "outputs": [],
   "source": [
    "\n",
    "R3 = th.tile(field3, (R, N)).view(R, Q, N, M)\n",
    "R4 = th.tile(field4, (Q, M)).view(Q, R, M, N).permute((1, 0, 3, 2))\n",
    "\n",
    "D3 = R3 - R4\n",
    "D3 = th.sqrt(x2 ** 2 + D3 ** 2)\n",
    "E4 = th.einsum(\"rqmn,pqn->pqrm\", th.exp(1j * D3 * K) / D3, E3)\n",
    "result = th.abs(E4)\n",
    "plot(result[0, 0, :, 0].to(\"cpu\").numpy())"
   ]
  },
  {
   "cell_type": "code",
   "execution_count": null,
   "metadata": {},
   "outputs": [],
   "source": [
    "R2 = th.tile(field2, (Q, M)).view(Q, P, M, N)\n",
    "R3 = th.tile(field3, (P, N)).view(P, Q, N, M).permute((1, 0, 3, 2))\n",
    "\n",
    "D1 = R1 - R3\n",
    "D2 = R2 - R3\n",
    "D1 = th.sqrt(x1 ** 2 + D1 ** 2)\n",
    "D2 = th.sqrt(x1 ** 2 + D2 ** 2)\n",
    "E3 = th.einsum(\"qpmn,pn->pqm\", th.exp(1j * D1 * K) / D1, E1) + th.einsum(\"qpmn,pn->pqm\", th.exp(1j * D2 * K) / D2, E2)\n",
    "\n",
    "R3 = th.tile(field3, (R, N)).view(R, Q, N, M)\n",
    "R4 = th.tile(field4, (Q, M)).view(Q, R, M, N).permute((1, 0, 3, 2))\n",
    "\n",
    "D3 = R3 - R4\n",
    "D3 = th.sqrt(x2 ** 2 + D3 ** 2)\n",
    "E4 = th.einsum(\"rqmn,pqn->pqrm\", th.exp(1j * D3 * K) / D3, E3)\n",
    "result = th.abs(E4)\n",
    "plot(result[0, 0, :, 0].to(\"cpu\").numpy())"
   ]
  },
  {
   "cell_type": "code",
   "execution_count": null,
   "metadata": {},
   "outputs": [],
   "source": []
  }
 ],
 "metadata": {
  "kernelspec": {
   "display_name": "Python 3",
   "language": "python",
   "name": "python3"
  },
  "language_info": {
   "codemirror_mode": {
    "name": "ipython",
    "version": 3
   },
   "file_extension": ".py",
   "mimetype": "text/x-python",
   "name": "python",
   "nbconvert_exporter": "python",
   "pygments_lexer": "ipython3",
   "version": "3.10.13"
  }
 },
 "nbformat": 4,
 "nbformat_minor": 2
}
