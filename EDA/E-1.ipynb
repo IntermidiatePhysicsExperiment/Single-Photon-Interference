{
 "cells": [
  {
   "cell_type": "code",
   "execution_count": null,
   "metadata": {},
   "outputs": [],
   "source": [
    "import pandas as pd\n",
    "import numpy as np\n",
    "import matplotlib.pyplot as plt\n",
    "plt.rc('font', family='AppleGothic') \t\t\t## 이 두 줄을 \n",
    "plt.rcParams['axes.unicode_minus'] = False  ## 추가해줍니다. \n",
    "\n",
    "path = \"../LASER/B-1/\"\n",
    "filename = lambda x: path + \"B-1_DoubleSlit_\" + str(x) + \".csv\"\n",
    "POSITION_COL = \"detector_position(mm)\"\n",
    "VOLTAGE_COL = \"voltage(V)\"\n",
    "\n",
    "def get_data(x):\n",
    "  data = pd.read_csv(filename(x))\n",
    "  pos = data[POSITION_COL]\n",
    "  volt = data[VOLTAGE_COL]\n",
    "  return pos, volt\n",
    "\n",
    "def plot_data(x):\n",
    "  pos, volt = get_data(x)\n",
    "  # plt.plot(pos, volt, color='red', linestyle='solid', marker='o', mfc='black', mec='black', ms=3)\n",
    "  plt.scatter(pos, volt, color='black', s=4)\n",
    "  plt.xlabel(\"Detecor Position (mm)\")\n",
    "  plt.ylabel(\"Output Voltage (V)\")\n",
    "  plt.title(f\"Detecor Position vs Output Voltage({str(x)}호)\")\n",
    "plot_data(14)"
   ]
  }
 ],
 "metadata": {
  "kernelspec": {
   "display_name": "Python 3",
   "language": "python",
   "name": "python3"
  },
  "language_info": {
   "name": "python",
   "version": "3.10.13"
  }
 },
 "nbformat": 4,
 "nbformat_minor": 2
}
